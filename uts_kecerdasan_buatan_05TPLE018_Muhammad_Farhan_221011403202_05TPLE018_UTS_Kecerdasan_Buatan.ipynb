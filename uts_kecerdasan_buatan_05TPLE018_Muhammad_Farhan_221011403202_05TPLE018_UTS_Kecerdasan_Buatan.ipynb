{
  "nbformat": 4,
  "nbformat_minor": 0,
  "metadata": {
    "colab": {
      "provenance": [],
      "authorship_tag": "ABX9TyOQ8UOSdDef7wYCo47QDyng",
      "include_colab_link": true
    },
    "kernelspec": {
      "name": "python3",
      "display_name": "Python 3"
    },
    "language_info": {
      "name": "python"
    }
  },
  "cells": [
    {
      "cell_type": "markdown",
      "metadata": {
        "id": "view-in-github",
        "colab_type": "text"
      },
      "source": [
        "<a href=\"https://colab.research.google.com/github/mmdfarhann/KECERDASAN-BUATAN/blob/main/uts_kecerdasan_buatan_05TPLE018_Muhammad_Farhan_221011403202_05TPLE018_UTS_Kecerdasan_Buatan.ipynb\" target=\"_parent\"><img src=\"https://colab.research.google.com/assets/colab-badge.svg\" alt=\"Open In Colab\"/></a>"
      ]
    },
    {
      "cell_type": "code",
      "execution_count": 1,
      "metadata": {
        "id": "NGboDYO-AvG0"
      },
      "outputs": [],
      "source": [
        "# Data\n",
        "\n",
        "company_detail_list = [\n",
        "      {\n",
        "          'name': 'Company 1',\n",
        "          'domain': 'Retail',\n",
        "          'country': 'United States'\n",
        "      },\n",
        "      {\n",
        "          'name': 'Company 2',\n",
        "          'domain': 'Technology',\n",
        "          'country': 'United Kingdom'\n",
        "      },\n",
        "      {\n",
        "          'name': 'Company 3',\n",
        "          'domain': 'Healthcare',\n",
        "          'country': 'United States'\n",
        "      }\n",
        "  ]\n",
        "\n",
        "employee_detail_list = [\n",
        "     {\n",
        "          'name': 'EMP-0001',\n",
        "          'first_name': 'John',\n",
        "          'last_name': 'Doe',\n",
        "          'full_name': 'John Doe',\n",
        "          'company': 'Company 1',\n",
        "          'nationality': 'Australia'\n",
        "      },\n",
        "      {\n",
        "          'name': 'EMP-0002',\n",
        "          'first_name': 'Tom',\n",
        "          'last_name': 'Smith',\n",
        "          'full_name': 'Tom Smith',\n",
        "          'company': 'Company 2',\n",
        "          'nationality': 'United States'\n",
        "      },\n",
        "      {\n",
        "          'name': 'EMP-0003',\n",
        "          'first_name': 'Andrew',\n",
        "          'last_name': 'Sebastian',\n",
        "          'full_name': 'Andrew Sebastian',\n",
        "          'company': 'Company 3',\n",
        "          'nationality': 'United States'\n",
        "      },\n",
        "      {\n",
        "          'name': 'EMP-0005',\n",
        "          'first_name': 'Ying Han',\n",
        "          'last_name': 'Tan',\n",
        "          'full_name': 'Ying Han Tan',\n",
        "          'company': 'Company 1',\n",
        "          'nationality': 'Australia'\n",
        "      },\n",
        "      {\n",
        "          'name': 'EMP-0015',\n",
        "          'first_name': 'Kenneth',\n",
        "          'last_name': 'Ng',\n",
        "          'full_name': 'Kenneth Ng',\n",
        "          'company': 'Company 3',\n",
        "          'nationality': 'United States'\n",
        "      },\n",
        "      {\n",
        "          'name': 'EMP-0018',\n",
        "          'first_name': 'Rubby',\n",
        "          'last_name': 'Lee',\n",
        "          'full_name': 'Rubby Lee',\n",
        "          'company': 'Company 2',\n",
        "          'nationality': 'Hong Kong'\n",
        "      },\n",
        "     {\n",
        "          'name': 'EMP-0017',\n",
        "          'first_name': 'Robert',\n",
        "          'last_name': 'White',\n",
        "          'full_name': 'Robert White',\n",
        "          'company': 'Company 1',\n",
        "          'nationality': 'United Kingdom'\n",
        "      }\n",
        "  ]"
      ]
    },
    {
      "cell_type": "code",
      "source": [
        "# Data perusahaan\n",
        "company_detail_list = [\n",
        "    {'name': 'Company 1', 'domain': 'Retail', 'country': 'United States'},\n",
        "    {'name': 'Company 2', 'domain': 'Technology', 'country': 'United Kingdom'},\n",
        "    {'name': 'Company 3', 'domain': 'Healthcare', 'country': 'United States'}\n",
        "]\n",
        "sorted_companies = sorted(company_detail_list, key=lambda x: x['name'], reverse=True)\n",
        "\n",
        "\n",
        "result = [{'name': company['name']} for company in sorted_companies]\n",
        "print(result)"
      ],
      "metadata": {
        "colab": {
          "base_uri": "https://localhost:8080/"
        },
        "id": "iUVVlY-dA3mE",
        "outputId": "a1fb594c-f5df-406d-f3cb-2244e2f25db6"
      },
      "execution_count": 2,
      "outputs": [
        {
          "output_type": "stream",
          "name": "stdout",
          "text": [
            "[{'name': 'Company 3'}, {'name': 'Company 2'}, {'name': 'Company 1'}]\n"
          ]
        }
      ]
    },
    {
      "cell_type": "code",
      "source": [
        "# Data perusahaan\n",
        "company_detail_list = [\n",
        "    {'name': 'Company 1', 'domain': 'Retail', 'country': 'United States'},\n",
        "    {'name': 'Company 2', 'domain': 'Technology', 'country': 'United Kingdom'},\n",
        "    {'name': 'Company 3', 'domain': 'Healthcare', 'country': 'United States'}\n",
        "]\n",
        "\n",
        "for company in company_detail_list:\n",
        "    print(f\"{company['name']}: {company['domain']} ({company['country']})\")"
      ],
      "metadata": {
        "colab": {
          "base_uri": "https://localhost:8080/"
        },
        "id": "GYAL2wJ3A7SU",
        "outputId": "b32050b7-104c-455d-ee7c-d5077747d48a"
      },
      "execution_count": 3,
      "outputs": [
        {
          "output_type": "stream",
          "name": "stdout",
          "text": [
            "Company 1: Retail (United States)\n",
            "Company 2: Technology (United Kingdom)\n",
            "Company 3: Healthcare (United States)\n"
          ]
        }
      ]
    },
    {
      "cell_type": "code",
      "source": [
        "# Data perusahaan\n",
        "company_detail_list = [\n",
        "    {'name': 'Company 1', 'domain': 'Retail', 'country': 'United States'},\n",
        "    {'name': 'Company 2', 'domain': 'Technology', 'country': 'United Kingdom'},\n",
        "    {'name': 'Company 3', 'domain': 'Healthcare', 'country': 'United States'}\n",
        "]\n",
        "\n",
        "# Data karyawan\n",
        "employee_detail_list = [\n",
        "    {'name': 'EMP-0001', 'first_name': 'John', 'last_name': 'Doe', 'full_name': 'John Doe', 'company': 'Company 1', 'nationality': 'Australia'},\n",
        "    {'name': 'EMP-0002', 'first_name': 'Tom', 'last_name': 'Smith', 'full_name': 'Tom Smith', 'company': 'Company 2', 'nationality': 'United States'},\n",
        "    {'name': 'EMP-0003', 'first_name': 'Andrew', 'last_name': 'Sebastian', 'full_name': 'Andrew Sebastian', 'company': 'Company 3', 'nationality': 'United States'},\n",
        "    {'name': 'EMP-0005', 'first_name': 'Ying Han', 'last_name': 'Tan', 'full_name': 'Ying Han Tan', 'company': 'Company 1', 'nationality': 'Australia'},\n",
        "    {'name': 'EMP-0015', 'first_name': 'Kenneth', 'last_name': 'Ng', 'full_name': 'Kenneth Ng', 'company': 'Company 3', 'nationality': 'United States'},\n",
        "    {'name': 'EMP-0018', 'first_name': 'Rubby', 'last_name': 'Lee', 'full_name': 'Rubby Lee', 'company': 'Company 2', 'nationality': 'Hong Kong'},\n",
        "    {'name': 'EMP-0017', 'first_name': 'Robert', 'last_name': 'White', 'full_name': 'Robert White', 'company': 'Company 1', 'nationality': 'United Kingdom'}\n",
        "]\n",
        "\n",
        "\n",
        "employee_by_domain = {}\n",
        "\n",
        "company_domain_map = {company['name']: company['domain'] for company in company_detail_list}\n",
        "for employee in employee_detail_list:\n",
        "    company_name = employee['company']\n",
        "    domain = company_domain_map[company_name]\n",
        "\n",
        "    if domain not in employee_by_domain:\n",
        "        employee_by_domain[domain] = []\n",
        "    employee_by_domain[domain].append(employee['full_name'])\n",
        "\n",
        "print(employee_by_domain)"
      ],
      "metadata": {
        "colab": {
          "base_uri": "https://localhost:8080/"
        },
        "id": "s7hn332yA-mj",
        "outputId": "928970d8-004f-4baf-d31b-6425d593c88e"
      },
      "execution_count": 4,
      "outputs": [
        {
          "output_type": "stream",
          "name": "stdout",
          "text": [
            "{'Retail': ['John Doe', 'Ying Han Tan', 'Robert White'], 'Technology': ['Tom Smith', 'Rubby Lee'], 'Healthcare': ['Andrew Sebastian', 'Kenneth Ng']}\n"
          ]
        }
      ]
    },
    {
      "cell_type": "code",
      "source": [
        "# Data perusahaan\n",
        "company_detail_list = [\n",
        "    {'name': 'Company 1', 'domain': 'Retail', 'country': 'United States'},\n",
        "    {'name': 'Company 2', 'domain': 'Technology', 'country': 'United Kingdom'},\n",
        "    {'name': 'Company 3', 'domain': 'Healthcare', 'country': 'United States'}\n",
        "]\n",
        "\n",
        "# Data karyawan\n",
        "employee_detail_list = [\n",
        "    {'name': 'EMP-0001', 'first_name': 'John', 'last_name': 'Doe', 'full_name': 'John Doe', 'company': 'Company 1', 'nationality': 'Australia'},\n",
        "    {'name': 'EMP-0002', 'first_name': 'Tom', 'last_name': 'Smith', 'full_name': 'Tom Smith', 'company': 'Company 2', 'nationality': 'United States'},\n",
        "    {'name': 'EMP-0003', 'first_name': 'Andrew', 'last_name': 'Sebastian', 'full_name': 'Andrew Sebastian', 'company': 'Company 3', 'nationality': 'United States'},\n",
        "    {'name': 'EMP-0005', 'first_name': 'Ying Han', 'last_name': 'Tan', 'full_name': 'Ying Han Tan', 'company': 'Company 1', 'nationality': 'Australia'},\n",
        "    {'name': 'EMP-0015', 'first_name': 'Kenneth', 'last_name': 'Ng', 'full_name': 'Kenneth Ng', 'company': 'Company 3', 'nationality': 'United States'},\n",
        "    {'name': 'EMP-0018', 'first_name': 'Rubby', 'last_name': 'Lee', 'full_name': 'Rubby Lee', 'company': 'Company 2', 'nationality': 'Hong Kong'},\n",
        "    {'name': 'EMP-0017', 'first_name': 'Robert', 'last_name': 'White', 'full_name': 'Robert White', 'company': 'Company 1', 'nationality': 'United Kingdom'}\n",
        "]\n",
        "\n",
        "def get_employees_with_country():\n",
        "    result = []\n",
        "    company_country_map = {company['name']: company['country'] for company in company_detail_list}\n",
        "\n",
        "    for employee in employee_detail_list:\n",
        "        company_name = employee['company']\n",
        "        country = company_country_map[company_name]\n",
        "        employee_info = {\n",
        "            \"full_name\": employee['full_name'],\n",
        "            \"company\": company_name,\n",
        "            \"country\": country\n",
        "        }\n",
        "\n",
        "        result.append(employee_info)\n",
        "\n",
        "    return result\n",
        "\n",
        "employees_with_country = get_employees_with_country()\n",
        "print(employees_with_country)"
      ],
      "metadata": {
        "colab": {
          "base_uri": "https://localhost:8080/"
        },
        "id": "WlpH7L8yBBo4",
        "outputId": "f7941c50-d37f-4192-c39d-a063a54bd352"
      },
      "execution_count": 5,
      "outputs": [
        {
          "output_type": "stream",
          "name": "stdout",
          "text": [
            "[{'full_name': 'John Doe', 'company': 'Company 1', 'country': 'United States'}, {'full_name': 'Tom Smith', 'company': 'Company 2', 'country': 'United Kingdom'}, {'full_name': 'Andrew Sebastian', 'company': 'Company 3', 'country': 'United States'}, {'full_name': 'Ying Han Tan', 'company': 'Company 1', 'country': 'United States'}, {'full_name': 'Kenneth Ng', 'company': 'Company 3', 'country': 'United States'}, {'full_name': 'Rubby Lee', 'company': 'Company 2', 'country': 'United Kingdom'}, {'full_name': 'Robert White', 'company': 'Company 1', 'country': 'United States'}]\n"
          ]
        }
      ]
    },
    {
      "cell_type": "code",
      "source": [
        "def employee_nationality_by_company(employee_list, company_list):\n",
        "    result = []\n",
        "\n",
        "    for company in company_list:\n",
        "        company_name = company['name']\n",
        "        employee_nationality = {}\n",
        "\n",
        "        for employee in employee_list:\n",
        "            if employee['company'] == company_name:\n",
        "                nationality = employee['nationality']\n",
        "                if nationality in employee_nationality:\n",
        "                    employee_nationality[nationality] += 1\n",
        "                else:\n",
        "                    employee_nationality[nationality] = 1\n",
        "\n",
        "        result.append({\n",
        "            \"company\": company_name,\n",
        "            \"employee_nationality\": employee_nationality\n",
        "        })\n",
        "\n",
        "    return result\n",
        "\n",
        "nationality_count = employee_nationality_by_company(employee_detail_list, company_detail_list)\n",
        "\n",
        "for item in nationality_count:\n",
        "    print(item)"
      ],
      "metadata": {
        "colab": {
          "base_uri": "https://localhost:8080/"
        },
        "id": "kEqRxgg0BGos",
        "outputId": "f1c4be41-1d49-4f68-9592-f6087ef5d8e1"
      },
      "execution_count": 6,
      "outputs": [
        {
          "output_type": "stream",
          "name": "stdout",
          "text": [
            "{'company': 'Company 1', 'employee_nationality': {'Australia': 2, 'United Kingdom': 1}}\n",
            "{'company': 'Company 2', 'employee_nationality': {'United States': 1, 'Hong Kong': 1}}\n",
            "{'company': 'Company 3', 'employee_nationality': {'United States': 2}}\n"
          ]
        }
      ]
    }
  ]
}